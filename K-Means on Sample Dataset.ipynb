{
 "cells": [
  {
   "cell_type": "code",
   "execution_count": 1,
   "id": "1c9c1c97",
   "metadata": {},
   "outputs": [],
   "source": [
    "#Import libraries\n",
    "from obspy import read\n",
    "import matplotlib.pyplot as plt\n",
    "import time\n",
    "import glob\n",
    "import numpy as np\n",
    "import pandas as pd\n",
    "import math\n",
    "from sklearn.preprocessing import StandardScaler\n",
    "from sklearn.pipeline import Pipeline"
   ]
  },
  {
   "cell_type": "markdown",
   "id": "22c3fcfa",
   "metadata": {},
   "source": [
    "# Pre-processing"
   ]
  },
  {
   "cell_type": "code",
   "execution_count": 2,
   "id": "f374d0ac",
   "metadata": {},
   "outputs": [],
   "source": [
    "path = '/Users/rachelconnor/Desktop/MDS Project/2c.BIT06/goodRF_crust2'\n",
    "#Make list of all RFs in folder\n",
    "pathList = sorted(glob.glob(path + '/*.PICKLE'))"
   ]
  },
  {
   "cell_type": "code",
   "execution_count": 3,
   "id": "f33fc3f7",
   "metadata": {},
   "outputs": [],
   "source": [
    "#Read in the first stream\n",
    "st = read(pathList[0], format = 'PICKLE')"
   ]
  },
  {
   "cell_type": "code",
   "execution_count": 4,
   "id": "34e33755",
   "metadata": {},
   "outputs": [
    {
     "name": "stdout",
     "output_type": "stream",
     "text": [
      "<class 'obspy.core.stream.Stream'>\n",
      "3 Trace(s) in Stream:\n",
      "2C.BIT06..HHZ | 2018-12-28T13:03:33.090000Z - 2018-12-28T13:33:33.040000Z | 20.0 Hz, 36000 samples\n",
      "2C.BIT06..BHR | 2018-12-28T13:03:33.090000Z - 2018-12-28T13:33:33.040000Z | 20.0 Hz, 36000 samples\n",
      "2C.BIT06..BHT | 2018-12-28T13:03:33.090000Z - 2018-12-28T13:33:33.040000Z | 20.0 Hz, 36000 samples\n"
     ]
    }
   ],
   "source": [
    "print(type(st))\n",
    "print(st)"
   ]
  },
  {
   "cell_type": "code",
   "execution_count": 5,
   "id": "b815f933",
   "metadata": {},
   "outputs": [],
   "source": [
    "#Extract first trace in stream\n",
    "tr1 = st[0]"
   ]
  },
  {
   "cell_type": "code",
   "execution_count": 6,
   "id": "2dd03634",
   "metadata": {},
   "outputs": [
    {
     "name": "stdout",
     "output_type": "stream",
     "text": [
      "7.652045638261598 | 71.6718291934481\n"
     ]
    }
   ],
   "source": [
    "#Get BAZ and distance\n",
    "statstr1 = print(tr1.stats.baz, \"|\", tr1.stats.dist)"
   ]
  },
  {
   "cell_type": "code",
   "execution_count": 7,
   "id": "6b609d5c",
   "metadata": {},
   "outputs": [],
   "source": [
    "#For loop to extract a list of BAZ and distance for the reciever functions \n",
    "#Empy lists\n",
    "Dists = []\n",
    "BAZs = []\n",
    "n = 0\n",
    "for reciever in pathList:\n",
    "    stream = read(pathList[n], format = \"PICKLE\")\n",
    "    trace = stream[0]\n",
    "    BAZs.append(trace.stats.baz)\n",
    "    Dists.append(trace.stats.dist)\n",
    "    n = n+1\n"
   ]
  },
  {
   "cell_type": "code",
   "execution_count": 8,
   "id": "a49a7a3c",
   "metadata": {},
   "outputs": [
    {
     "name": "stdout",
     "output_type": "stream",
     "text": [
      "[71.6718291934481, 75.04113685867561, 83.7273387942292, 58.34998749457671, 56.680257351588835, 43.37113411852291, 36.592917855039, 32.492593786071374, 88.43078165207618, 81.28151494814382, 55.333820622893455, 77.68956728110595, 68.51522228364543, 67.90952123204826, 49.04481335084993, 59.915755710476944, 60.97714687995854]\n",
      "[7.652045638261598, 12.109605221800535, 26.471115169572357, 63.32631019180084, 68.12736533635511, 96.37133003912462, 105.08959683682616, 114.12273411739278, 228.71646152263233, 230.49773552920783, 235.6323247647638, 237.79901331802836, 259.50005722249097, 262.22425640603444, 330.2036913045764, 356.5377625824374, 356.0935698942039]\n"
     ]
    }
   ],
   "source": [
    "print(Dists)\n",
    "print(BAZs)"
   ]
  },
  {
   "cell_type": "code",
   "execution_count": 9,
   "id": "19026bfb",
   "metadata": {},
   "outputs": [
    {
     "data": {
      "text/html": [
       "<div>\n",
       "<style scoped>\n",
       "    .dataframe tbody tr th:only-of-type {\n",
       "        vertical-align: middle;\n",
       "    }\n",
       "\n",
       "    .dataframe tbody tr th {\n",
       "        vertical-align: top;\n",
       "    }\n",
       "\n",
       "    .dataframe thead th {\n",
       "        text-align: right;\n",
       "    }\n",
       "</style>\n",
       "<table border=\"1\" class=\"dataframe\">\n",
       "  <thead>\n",
       "    <tr style=\"text-align: right;\">\n",
       "      <th></th>\n",
       "      <th>BAZ</th>\n",
       "      <th>Distance</th>\n",
       "    </tr>\n",
       "  </thead>\n",
       "  <tbody>\n",
       "    <tr>\n",
       "      <th>0</th>\n",
       "      <td>7.652046</td>\n",
       "      <td>71.671829</td>\n",
       "    </tr>\n",
       "    <tr>\n",
       "      <th>1</th>\n",
       "      <td>12.109605</td>\n",
       "      <td>75.041137</td>\n",
       "    </tr>\n",
       "    <tr>\n",
       "      <th>2</th>\n",
       "      <td>26.471115</td>\n",
       "      <td>83.727339</td>\n",
       "    </tr>\n",
       "    <tr>\n",
       "      <th>3</th>\n",
       "      <td>63.326310</td>\n",
       "      <td>58.349987</td>\n",
       "    </tr>\n",
       "    <tr>\n",
       "      <th>4</th>\n",
       "      <td>68.127365</td>\n",
       "      <td>56.680257</td>\n",
       "    </tr>\n",
       "    <tr>\n",
       "      <th>5</th>\n",
       "      <td>96.371330</td>\n",
       "      <td>43.371134</td>\n",
       "    </tr>\n",
       "    <tr>\n",
       "      <th>6</th>\n",
       "      <td>105.089597</td>\n",
       "      <td>36.592918</td>\n",
       "    </tr>\n",
       "    <tr>\n",
       "      <th>7</th>\n",
       "      <td>114.122734</td>\n",
       "      <td>32.492594</td>\n",
       "    </tr>\n",
       "    <tr>\n",
       "      <th>8</th>\n",
       "      <td>228.716462</td>\n",
       "      <td>88.430782</td>\n",
       "    </tr>\n",
       "    <tr>\n",
       "      <th>9</th>\n",
       "      <td>230.497736</td>\n",
       "      <td>81.281515</td>\n",
       "    </tr>\n",
       "    <tr>\n",
       "      <th>10</th>\n",
       "      <td>235.632325</td>\n",
       "      <td>55.333821</td>\n",
       "    </tr>\n",
       "    <tr>\n",
       "      <th>11</th>\n",
       "      <td>237.799013</td>\n",
       "      <td>77.689567</td>\n",
       "    </tr>\n",
       "    <tr>\n",
       "      <th>12</th>\n",
       "      <td>259.500057</td>\n",
       "      <td>68.515222</td>\n",
       "    </tr>\n",
       "    <tr>\n",
       "      <th>13</th>\n",
       "      <td>262.224256</td>\n",
       "      <td>67.909521</td>\n",
       "    </tr>\n",
       "    <tr>\n",
       "      <th>14</th>\n",
       "      <td>330.203691</td>\n",
       "      <td>49.044813</td>\n",
       "    </tr>\n",
       "    <tr>\n",
       "      <th>15</th>\n",
       "      <td>356.537763</td>\n",
       "      <td>59.915756</td>\n",
       "    </tr>\n",
       "    <tr>\n",
       "      <th>16</th>\n",
       "      <td>356.093570</td>\n",
       "      <td>60.977147</td>\n",
       "    </tr>\n",
       "  </tbody>\n",
       "</table>\n",
       "</div>"
      ],
      "text/plain": [
       "           BAZ   Distance\n",
       "0     7.652046  71.671829\n",
       "1    12.109605  75.041137\n",
       "2    26.471115  83.727339\n",
       "3    63.326310  58.349987\n",
       "4    68.127365  56.680257\n",
       "5    96.371330  43.371134\n",
       "6   105.089597  36.592918\n",
       "7   114.122734  32.492594\n",
       "8   228.716462  88.430782\n",
       "9   230.497736  81.281515\n",
       "10  235.632325  55.333821\n",
       "11  237.799013  77.689567\n",
       "12  259.500057  68.515222\n",
       "13  262.224256  67.909521\n",
       "14  330.203691  49.044813\n",
       "15  356.537763  59.915756\n",
       "16  356.093570  60.977147"
      ]
     },
     "execution_count": 9,
     "metadata": {},
     "output_type": "execute_result"
    }
   ],
   "source": [
    "#Make them into a datafram\n",
    "Data = pd.DataFrame(\n",
    "    {'BAZ': BAZs,\n",
    "     'Distance': Dists\n",
    "    })\n",
    "#Turn it into the csv file\n",
    "Data.to_csv('DraftSumm.csv', sep='\\t', index=False)\n",
    "#Read it with panda and remove unwanted columns to begin analysis\n",
    "df = pd.read_csv('DraftSumm.csv', sep='\\t', index_col=False)\n",
    "if 'Unnamed: 0' in df.columns:\n",
    "    df.drop('Unnamed: 0', axis=1, inplace=True)\n",
    "df"
   ]
  },
  {
   "cell_type": "markdown",
   "id": "447f5eb9",
   "metadata": {},
   "source": [
    "# K-Means Clustering"
   ]
  },
  {
   "cell_type": "code",
   "execution_count": 10,
   "id": "c4b703cc",
   "metadata": {},
   "outputs": [],
   "source": [
    "#To do basic k-means clustering\n",
    "import matplotlib.pyplot as plt\n",
    "from kneed import KneeLocator\n",
    "from sklearn.datasets import make_blobs\n",
    "from sklearn.cluster import KMeans\n",
    "from sklearn.metrics import silhouette_score\n",
    "from sklearn.preprocessing import StandardScaler"
   ]
  },
  {
   "cell_type": "code",
   "execution_count": 12,
   "id": "f5e0a7b3",
   "metadata": {},
   "outputs": [
    {
     "name": "stdout",
     "output_type": "stream",
     "text": [
      "Scaled Dataset Using StandardScaler:\n"
     ]
    },
    {
     "data": {
      "text/html": [
       "<div>\n",
       "<style scoped>\n",
       "    .dataframe tbody tr th:only-of-type {\n",
       "        vertical-align: middle;\n",
       "    }\n",
       "\n",
       "    .dataframe tbody tr th {\n",
       "        vertical-align: top;\n",
       "    }\n",
       "\n",
       "    .dataframe thead th {\n",
       "        text-align: right;\n",
       "    }\n",
       "</style>\n",
       "<table border=\"1\" class=\"dataframe\">\n",
       "  <thead>\n",
       "    <tr style=\"text-align: right;\">\n",
       "      <th></th>\n",
       "      <th>BAZ</th>\n",
       "      <th>Distance</th>\n",
       "    </tr>\n",
       "  </thead>\n",
       "  <tbody>\n",
       "    <tr>\n",
       "      <th>0</th>\n",
       "      <td>-1.435904</td>\n",
       "      <td>0.563763</td>\n",
       "    </tr>\n",
       "    <tr>\n",
       "      <th>1</th>\n",
       "      <td>-1.397863</td>\n",
       "      <td>0.777054</td>\n",
       "    </tr>\n",
       "    <tr>\n",
       "      <th>2</th>\n",
       "      <td>-1.275303</td>\n",
       "      <td>1.326927</td>\n",
       "    </tr>\n",
       "    <tr>\n",
       "      <th>3</th>\n",
       "      <td>-0.960784</td>\n",
       "      <td>-0.279564</td>\n",
       "    </tr>\n",
       "    <tr>\n",
       "      <th>4</th>\n",
       "      <td>-0.919812</td>\n",
       "      <td>-0.385265</td>\n",
       "    </tr>\n",
       "    <tr>\n",
       "      <th>5</th>\n",
       "      <td>-0.678780</td>\n",
       "      <td>-1.227788</td>\n",
       "    </tr>\n",
       "    <tr>\n",
       "      <th>6</th>\n",
       "      <td>-0.604379</td>\n",
       "      <td>-1.656877</td>\n",
       "    </tr>\n",
       "    <tr>\n",
       "      <th>7</th>\n",
       "      <td>-0.527291</td>\n",
       "      <td>-1.916444</td>\n",
       "    </tr>\n",
       "    <tr>\n",
       "      <th>8</th>\n",
       "      <td>0.450644</td>\n",
       "      <td>1.624674</td>\n",
       "    </tr>\n",
       "    <tr>\n",
       "      <th>9</th>\n",
       "      <td>0.465845</td>\n",
       "      <td>1.172096</td>\n",
       "    </tr>\n",
       "    <tr>\n",
       "      <th>10</th>\n",
       "      <td>0.509664</td>\n",
       "      <td>-0.470500</td>\n",
       "    </tr>\n",
       "    <tr>\n",
       "      <th>11</th>\n",
       "      <td>0.528154</td>\n",
       "      <td>0.944711</td>\n",
       "    </tr>\n",
       "    <tr>\n",
       "      <th>12</th>\n",
       "      <td>0.713349</td>\n",
       "      <td>0.363937</td>\n",
       "    </tr>\n",
       "    <tr>\n",
       "      <th>13</th>\n",
       "      <td>0.736597</td>\n",
       "      <td>0.325594</td>\n",
       "    </tr>\n",
       "    <tr>\n",
       "      <th>14</th>\n",
       "      <td>1.316729</td>\n",
       "      <td>-0.868620</td>\n",
       "    </tr>\n",
       "    <tr>\n",
       "      <th>15</th>\n",
       "      <td>1.541462</td>\n",
       "      <td>-0.180445</td>\n",
       "    </tr>\n",
       "    <tr>\n",
       "      <th>16</th>\n",
       "      <td>1.537671</td>\n",
       "      <td>-0.113254</td>\n",
       "    </tr>\n",
       "  </tbody>\n",
       "</table>\n",
       "</div>"
      ],
      "text/plain": [
       "         BAZ  Distance\n",
       "0  -1.435904  0.563763\n",
       "1  -1.397863  0.777054\n",
       "2  -1.275303  1.326927\n",
       "3  -0.960784 -0.279564\n",
       "4  -0.919812 -0.385265\n",
       "5  -0.678780 -1.227788\n",
       "6  -0.604379 -1.656877\n",
       "7  -0.527291 -1.916444\n",
       "8   0.450644  1.624674\n",
       "9   0.465845  1.172096\n",
       "10  0.509664 -0.470500\n",
       "11  0.528154  0.944711\n",
       "12  0.713349  0.363937\n",
       "13  0.736597  0.325594\n",
       "14  1.316729 -0.868620\n",
       "15  1.541462 -0.180445\n",
       "16  1.537671 -0.113254"
      ]
     },
     "execution_count": 12,
     "metadata": {},
     "output_type": "execute_result"
    }
   ],
   "source": [
    "#Need to scale data\n",
    "stdScaler = StandardScaler()\n",
    "\n",
    "scaledDf = stdScaler.fit_transform(df.to_numpy())\n",
    "scaledDf = pd.DataFrame(scaledDf, columns = ['BAZ', 'Distance'])\n",
    "\n",
    "print(\"Scaled Dataset Using StandardScaler:\")\n",
    "scaledDf"
   ]
  },
  {
   "cell_type": "markdown",
   "id": "ea837918",
   "metadata": {},
   "source": [
    "## No. Cluster Selection"
   ]
  },
  {
   "cell_type": "code",
   "execution_count": 13,
   "id": "133ce0b8",
   "metadata": {},
   "outputs": [
    {
     "name": "stderr",
     "output_type": "stream",
     "text": [
      "/Users/rachelconnor/opt/anaconda3/envs/Project/lib/python3.9/site-packages/sklearn/cluster/_kmeans.py:870: FutureWarning: The default value of `n_init` will change from 10 to 'auto' in 1.4. Set the value of `n_init` explicitly to suppress the warning\n",
      "  warnings.warn(\n",
      "/Users/rachelconnor/opt/anaconda3/envs/Project/lib/python3.9/site-packages/sklearn/cluster/_kmeans.py:870: FutureWarning: The default value of `n_init` will change from 10 to 'auto' in 1.4. Set the value of `n_init` explicitly to suppress the warning\n",
      "  warnings.warn(\n",
      "/Users/rachelconnor/opt/anaconda3/envs/Project/lib/python3.9/site-packages/sklearn/cluster/_kmeans.py:870: FutureWarning: The default value of `n_init` will change from 10 to 'auto' in 1.4. Set the value of `n_init` explicitly to suppress the warning\n",
      "  warnings.warn(\n",
      "/Users/rachelconnor/opt/anaconda3/envs/Project/lib/python3.9/site-packages/sklearn/cluster/_kmeans.py:870: FutureWarning: The default value of `n_init` will change from 10 to 'auto' in 1.4. Set the value of `n_init` explicitly to suppress the warning\n",
      "  warnings.warn(\n",
      "/Users/rachelconnor/opt/anaconda3/envs/Project/lib/python3.9/site-packages/sklearn/cluster/_kmeans.py:870: FutureWarning: The default value of `n_init` will change from 10 to 'auto' in 1.4. Set the value of `n_init` explicitly to suppress the warning\n",
      "  warnings.warn(\n",
      "/Users/rachelconnor/opt/anaconda3/envs/Project/lib/python3.9/site-packages/sklearn/cluster/_kmeans.py:870: FutureWarning: The default value of `n_init` will change from 10 to 'auto' in 1.4. Set the value of `n_init` explicitly to suppress the warning\n",
      "  warnings.warn(\n",
      "/Users/rachelconnor/opt/anaconda3/envs/Project/lib/python3.9/site-packages/sklearn/cluster/_kmeans.py:870: FutureWarning: The default value of `n_init` will change from 10 to 'auto' in 1.4. Set the value of `n_init` explicitly to suppress the warning\n",
      "  warnings.warn(\n",
      "/Users/rachelconnor/opt/anaconda3/envs/Project/lib/python3.9/site-packages/sklearn/cluster/_kmeans.py:870: FutureWarning: The default value of `n_init` will change from 10 to 'auto' in 1.4. Set the value of `n_init` explicitly to suppress the warning\n",
      "  warnings.warn(\n",
      "/Users/rachelconnor/opt/anaconda3/envs/Project/lib/python3.9/site-packages/sklearn/cluster/_kmeans.py:870: FutureWarning: The default value of `n_init` will change from 10 to 'auto' in 1.4. Set the value of `n_init` explicitly to suppress the warning\n",
      "  warnings.warn(\n",
      "/Users/rachelconnor/opt/anaconda3/envs/Project/lib/python3.9/site-packages/sklearn/cluster/_kmeans.py:870: FutureWarning: The default value of `n_init` will change from 10 to 'auto' in 1.4. Set the value of `n_init` explicitly to suppress the warning\n",
      "  warnings.warn(\n",
      "/Users/rachelconnor/opt/anaconda3/envs/Project/lib/python3.9/site-packages/sklearn/cluster/_kmeans.py:870: FutureWarning: The default value of `n_init` will change from 10 to 'auto' in 1.4. Set the value of `n_init` explicitly to suppress the warning\n",
      "  warnings.warn(\n",
      "/Users/rachelconnor/opt/anaconda3/envs/Project/lib/python3.9/site-packages/sklearn/cluster/_kmeans.py:870: FutureWarning: The default value of `n_init` will change from 10 to 'auto' in 1.4. Set the value of `n_init` explicitly to suppress the warning\n",
      "  warnings.warn(\n",
      "/Users/rachelconnor/opt/anaconda3/envs/Project/lib/python3.9/site-packages/sklearn/cluster/_kmeans.py:870: FutureWarning: The default value of `n_init` will change from 10 to 'auto' in 1.4. Set the value of `n_init` explicitly to suppress the warning\n",
      "  warnings.warn(\n",
      "/Users/rachelconnor/opt/anaconda3/envs/Project/lib/python3.9/site-packages/sklearn/cluster/_kmeans.py:870: FutureWarning: The default value of `n_init` will change from 10 to 'auto' in 1.4. Set the value of `n_init` explicitly to suppress the warning\n",
      "  warnings.warn(\n"
     ]
    }
   ],
   "source": [
    "#Cluster Selection using Inertia Method and Silhouette Method\n",
    "#Inertia Attribute\n",
    "SSE = []\n",
    "K = range(1,15)\n",
    "for k in K:\n",
    "    km = KMeans(n_clusters =k)\n",
    "    km = km.fit(scaledDf)\n",
    "    SSE.append(km.inertia_)"
   ]
  },
  {
   "cell_type": "code",
   "execution_count": 14,
   "id": "693db54c",
   "metadata": {},
   "outputs": [
    {
     "data": {
      "image/png": "[encoded data removed]",
      "text/plain": [
       "<Figure size 640x480 with 1 Axes>"
      ]
     },
     "metadata": {},
     "output_type": "display_data"
    }
   ],
   "source": [
    "plt.plot(K, SSE, 'bx-')\n",
    "plt.xlabel('k')\n",
    "plt.ylabel('Sum of Squared Distances')\n",
    "plt.title('Inertia Method For Optimal K-Clusters')\n",
    "plt.show()"
   ]
  },
  {
   "cell_type": "code",
   "execution_count": 15,
   "id": "8bd3565c",
   "metadata": {},
   "outputs": [],
   "source": [
    "#Different Method\n",
    "kmeans_kwargs = {\n",
    "    \"init\":\"random\",\n",
    "    \"n_init\": 10,\n",
    "    \"max_iter\": 300\n",
    "}\n",
    "\n",
    "#A list holds the SSE values for each k\n",
    "sse = []\n",
    "for k in range (1,15):\n",
    "    kmeans = KMeans(n_clusters = k, **kmeans_kwargs)\n",
    "    kmeans.fit(scaledDf)\n",
    "    sse.append(kmeans.inertia_)"
   ]
  },
  {
   "cell_type": "code",
   "execution_count": 40,
   "id": "ce1b576d",
   "metadata": {},
   "outputs": [
    {
     "data": {
      "image/png": "[encoded data removed]",
      "text/plain": [
       "<Figure size 640x480 with 1 Axes>"
      ]
     },
     "metadata": {},
     "output_type": "display_data"
    }
   ],
   "source": [
    "#marker to highlight \"elbow\"\n",
    "x = [4]\n",
    "y = [5]\n",
    "#plot\n",
    "plt.style.use(\"fivethirtyeight\")\n",
    "plt.plot(range(1,15), sse)\n",
    "plt.xticks(range(1,15))\n",
    "plt.plot(x,y, marker = \"o\", markersize = 6, markerfacecolor='red')\n",
    "plt.title(\"Inertia Method for Cluster Selection\", fontname='Times New Roman', pad = 20)\n",
    "plt.xlabel(\"k\", fontname = 'Times New Roman')\n",
    "plt.ylabel(\"SSE\", fontname = 'Times New Roman')\n",
    "plt.legend(['k-interations', 'Elbow'], loc = \"upper right\", prop = {'size': 10})\n",
    "plt.tight_layout()\n",
    "\n",
    "#save\n",
    "#plt.savefig('Sample k-means inertia')\n",
    "\n",
    "plt.show()"
   ]
  },
  {
   "cell_type": "code",
   "execution_count": 34,
   "id": "78372e53",
   "metadata": {},
   "outputs": [
    {
     "data": {
      "text/plain": [
       "4"
      ]
     },
     "execution_count": 34,
     "metadata": {},
     "output_type": "execute_result"
    }
   ],
   "source": [
    "#Can use package to identify elbow point programmatically\n",
    "kl = KneeLocator(range(1,15), sse, curve = \"convex\",\n",
    "                direction = \"decreasing\")\n",
    "kl.elbow"
   ]
  },
  {
   "cell_type": "code",
   "execution_count": 41,
   "id": "f9f8d097",
   "metadata": {},
   "outputs": [],
   "source": [
    "#No. Clusters via silhouette Measure\n",
    "#Instead of computing SSE we are computing silhouette coefficient\n",
    "silCo = []\n",
    "\n",
    "#need to start at 2 clusters for silhouette coefficient\n",
    "for k in range(2,15):\n",
    "    kmeans = KMeans(n_clusters=k, **kmeans_kwargs)\n",
    "    kmeans.fit(scaledDf)\n",
    "    score = silhouette_score(scaledDf, kmeans.labels_)\n",
    "    silCo.append(score)"
   ]
  },
  {
   "cell_type": "code",
   "execution_count": 44,
   "id": "75ea326b",
   "metadata": {},
   "outputs": [
    {
     "data": {
      "image/png": "[encoded data removed]",
      "text/plain": [
       "<Figure size 640x480 with 1 Axes>"
      ]
     },
     "metadata": {},
     "output_type": "display_data"
    }
   ],
   "source": [
    "plt.style.use(\"fivethirtyeight\")\n",
    "plt.plot(range(2,15), silCo)\n",
    "plt.xticks(range(2,15))\n",
    "plt.title('Silhouette Measure for Cluster Selection', fontname = 'Times New Roman', pad=20)\n",
    "plt.xlabel(\"k\", fontname = 'Times New Roman')\n",
    "plt.ylabel(\"Silhouette Coefficient\", fontname = 'Times New Roman')\n",
    "plt.tight_layout()\n",
    "\n",
    "#Save\n",
    "plt.savefig('Sample k-means silhouette')\n",
    "\n",
    "plt.show()"
   ]
  },
  {
   "cell_type": "markdown",
   "id": "77096954",
   "metadata": {},
   "source": [
    "## K-Means Application"
   ]
  },
  {
   "cell_type": "code",
   "execution_count": 45,
   "id": "7f6d5d50",
   "metadata": {},
   "outputs": [
    {
     "name": "stderr",
     "output_type": "stream",
     "text": [
      "/Users/rachelconnor/opt/anaconda3/envs/Project/lib/python3.9/site-packages/sklearn/cluster/_kmeans.py:870: FutureWarning: The default value of `n_init` will change from 10 to 'auto' in 1.4. Set the value of `n_init` explicitly to suppress the warning\n",
      "  warnings.warn(\n"
     ]
    },
    {
     "data": {
      "text/html": [
       "<style>#sk-container-id-1 {color: black;background-color: white;}#sk-container-id-1 pre{padding: 0;}#sk-container-id-1 div.sk-toggleable {background-color: white;}#sk-container-id-1 label.sk-toggleable__label {cursor: pointer;display: block;width: 100%;margin-bottom: 0;padding: 0.3em;box-sizing: border-box;text-align: center;}#sk-container-id-1 label.sk-toggleable__label-arrow:before {content: \"▸\";float: left;margin-right: 0.25em;color: #696969;}#sk-container-id-1 label.sk-toggleable__label-arrow:hover:before {color: black;}#sk-container-id-1 div.sk-estimator:hover label.sk-toggleable__label-arrow:before {color: black;}#sk-container-id-1 div.sk-toggleable__content {max-height: 0;max-width: 0;overflow: hidden;text-align: left;background-color: #f0f8ff;}#sk-container-id-1 div.sk-toggleable__content pre {margin: 0.2em;color: black;border-radius: 0.25em;background-color: #f0f8ff;}#sk-container-id-1 input.sk-toggleable__control:checked~div.sk-toggleable__content {max-height: 200px;max-width: 100%;overflow: auto;}#sk-container-id-1 input.sk-toggleable__control:checked~label.sk-toggleable__label-arrow:before {content: \"▾\";}#sk-container-id-1 div.sk-estimator input.sk-toggleable__control:checked~label.sk-toggleable__label {background-color: #d4ebff;}#sk-container-id-1 div.sk-label input.sk-toggleable__control:checked~label.sk-toggleable__label {background-color: #d4ebff;}#sk-container-id-1 input.sk-hidden--visually {border: 0;clip: rect(1px 1px 1px 1px);clip: rect(1px, 1px, 1px, 1px);height: 1px;margin: -1px;overflow: hidden;padding: 0;position: absolute;width: 1px;}#sk-container-id-1 div.sk-estimator {font-family: monospace;background-color: #f0f8ff;border: 1px dotted black;border-radius: 0.25em;box-sizing: border-box;margin-bottom: 0.5em;}#sk-container-id-1 div.sk-estimator:hover {background-color: #d4ebff;}#sk-container-id-1 div.sk-parallel-item::after {content: \"\";width: 100%;border-bottom: 1px solid gray;flex-grow: 1;}#sk-container-id-1 div.sk-label:hover label.sk-toggleable__label {background-color: #d4ebff;}#sk-container-id-1 div.sk-serial::before {content: \"\";position: absolute;border-left: 1px solid gray;box-sizing: border-box;top: 0;bottom: 0;left: 50%;z-index: 0;}#sk-container-id-1 div.sk-serial {display: flex;flex-direction: column;align-items: center;background-color: white;padding-right: 0.2em;padding-left: 0.2em;position: relative;}#sk-container-id-1 div.sk-item {position: relative;z-index: 1;}#sk-container-id-1 div.sk-parallel {display: flex;align-items: stretch;justify-content: center;background-color: white;position: relative;}#sk-container-id-1 div.sk-item::before, #sk-container-id-1 div.sk-parallel-item::before {content: \"\";position: absolute;border-left: 1px solid gray;box-sizing: border-box;top: 0;bottom: 0;left: 50%;z-index: -1;}#sk-container-id-1 div.sk-parallel-item {display: flex;flex-direction: column;z-index: 1;position: relative;background-color: white;}#sk-container-id-1 div.sk-parallel-item:first-child::after {align-self: flex-end;width: 50%;}#sk-container-id-1 div.sk-parallel-item:last-child::after {align-self: flex-start;width: 50%;}#sk-container-id-1 div.sk-parallel-item:only-child::after {width: 0;}#sk-container-id-1 div.sk-dashed-wrapped {border: 1px dashed gray;margin: 0 0.4em 0.5em 0.4em;box-sizing: border-box;padding-bottom: 0.4em;background-color: white;}#sk-container-id-1 div.sk-label label {font-family: monospace;font-weight: bold;display: inline-block;line-height: 1.2em;}#sk-container-id-1 div.sk-label-container {text-align: center;}#sk-container-id-1 div.sk-container {/* jupyter's `normalize.less` sets `[hidden] { display: none; }` but bootstrap.min.css set `[hidden] { display: none !important; }` so we also need the `!important` here to be able to override the default hidden behavior on the sphinx rendered scikit-learn.org. See: https://github.com/scikit-learn/scikit-learn/issues/21755 */display: inline-block !important;position: relative;}#sk-container-id-1 div.sk-text-repr-fallback {display: none;}</style><div id=\"sk-container-id-1\" class=\"sk-top-container\"><div class=\"sk-text-repr-fallback\"><pre>KMeans(n_clusters=4)</pre><b>In a Jupyter environment, please rerun this cell to show the HTML representation or trust the notebook. <br />On GitHub, the HTML representation is unable to render, please try loading this page with nbviewer.org.</b></div><div class=\"sk-container\" hidden><div class=\"sk-item\"><div class=\"sk-estimator sk-toggleable\"><input class=\"sk-toggleable__control sk-hidden--visually\" id=\"sk-estimator-id-1\" type=\"checkbox\" checked><label for=\"sk-estimator-id-1\" class=\"sk-toggleable__label sk-toggleable__label-arrow\">KMeans</label><div class=\"sk-toggleable__content\"><pre>KMeans(n_clusters=4)</pre></div></div></div></div></div>"
      ],
      "text/plain": [
       "KMeans(n_clusters=4)"
      ]
     },
     "execution_count": 45,
     "metadata": {},
     "output_type": "execute_result"
    }
   ],
   "source": [
    "#Apply with k = 4\n",
    "kmeansModel = KMeans(n_clusters = 4)\n",
    "kmeansModel.fit(scaledDf)"
   ]
  },
  {
   "cell_type": "code",
   "execution_count": 46,
   "id": "24145eff",
   "metadata": {},
   "outputs": [
    {
     "data": {
      "text/plain": [
       "<bound method NDFrame.head of            BAZ   Distance  Clusters\n",
       "0     7.652046  71.671829         0\n",
       "1    12.109605  75.041137         0\n",
       "2    26.471115  83.727339         0\n",
       "3    63.326310  58.349987         0\n",
       "4    68.127365  56.680257         0\n",
       "5    96.371330  43.371134         2\n",
       "6   105.089597  36.592918         2\n",
       "7   114.122734  32.492594         2\n",
       "8   228.716462  88.430782         3\n",
       "9   230.497736  81.281515         3\n",
       "10  235.632325  55.333821         1\n",
       "11  237.799013  77.689567         3\n",
       "12  259.500057  68.515222         3\n",
       "13  262.224256  67.909521         3\n",
       "14  330.203691  49.044813         1\n",
       "15  356.537763  59.915756         1\n",
       "16  356.093570  60.977147         1>"
      ]
     },
     "execution_count": 46,
     "metadata": {},
     "output_type": "execute_result"
    }
   ],
   "source": [
    "df['Clusters'] = kmeansModel.labels_\n",
    "df.head"
   ]
  },
  {
   "cell_type": "code",
   "execution_count": 48,
   "id": "646200a4",
   "metadata": {},
   "outputs": [
    {
     "data": {
      "image/png": "[encoded data removed]",
      "text/plain": [
       "<Figure size 640x480 with 1 Axes>"
      ]
     },
     "metadata": {},
     "output_type": "display_data"
    }
   ],
   "source": [
    "#Try visualise\n",
    "plt.scatter(df[\"BAZ\"],\n",
    "           df[\"Distance\"],\n",
    "           c = df[\"Clusters\"])\n",
    "plt.scatter\n",
    "plt.title('2-Dimension k=4 Cluster Representation', fontname = 'Times New Roman', pad=20)\n",
    "plt.xlabel(\"BAZ\", fontname = 'Times New Roman')\n",
    "plt.ylabel(\"Distance\", fontname = 'Times New Roman')\n",
    "plt.show()"
   ]
  },
  {
   "cell_type": "code",
   "execution_count": null,
   "id": "36913f0a",
   "metadata": {},
   "outputs": [],
   "source": [
    "#How many in each cluster\n",
    "df['Clusters'].value_counts()"
   ]
  },
  {
   "cell_type": "markdown",
   "id": "f05276bd",
   "metadata": {},
   "source": [
    "## K-Means using Manual No. Clusters"
   ]
  },
  {
   "cell_type": "code",
   "execution_count": null,
   "id": "ad71d212",
   "metadata": {},
   "outputs": [],
   "source": [
    "#Apply with k = 2\n",
    "kmeansManual = KMeans(n_clusters = 2)\n",
    "kmeansManual.fit(scaledDf)"
   ]
  },
  {
   "cell_type": "code",
   "execution_count": null,
   "id": "eab81e9b",
   "metadata": {},
   "outputs": [],
   "source": [
    "df['Two Clusters'] = kmeansManual.labels_\n",
    "df.head"
   ]
  },
  {
   "cell_type": "code",
   "execution_count": null,
   "id": "cb11f0cc",
   "metadata": {},
   "outputs": [],
   "source": [
    "#Try visualise\n",
    "plt.scatter(df[\"BAZ\"],\n",
    "           df[\"Distance\"],\n",
    "           c = df[\"Two Clusters\"])\n",
    "plt.title('2-Dimensional K=2 Cluster Representaiton')\n",
    "plt.xlabel(\"BAZ\")\n",
    "plt.ylabel(\"Distance\")\n",
    "plt.show()"
   ]
  },
  {
   "cell_type": "code",
   "execution_count": null,
   "id": "7e0211ce",
   "metadata": {},
   "outputs": [],
   "source": [
    "#How many in each cluster\n",
    "df['Two Clusters'].value_counts()"
   ]
  },
  {
   "cell_type": "markdown",
   "id": "3c59bc78",
   "metadata": {},
   "source": [
    "# Visuals - All RFs, manual clusters Vs. 4-Cluster Vs. 2-Cluster"
   ]
  },
  {
   "cell_type": "code",
   "execution_count": null,
   "id": "d5bf8d62",
   "metadata": {},
   "outputs": [],
   "source": [
    "filt = 'crust2'\n",
    "#Final all Manual cluster folds\n",
    "BAZ_subfolds = sorted(glob.glob(path + '/BAZ_*_*'))\n",
    "print('Manual Clustering Folders:', '\\n')\n",
    "print(BAZ_subfolds)\n",
    "#Find all K=4 Subfolders that exist\n",
    "KMeans_subfolds = sorted(glob.glob(path + '/KMean_*'))\n",
    "#Find all K=2 Subfolders that exist\n",
    "K2_subfolds = sorted(glob.glob(path + '/K2_*'))\n",
    "print('Manual Clustering Folders:', BAZ_subfolds, '\\n ___________________________________',\n",
    "      '\\K=4 Clustering Folders:\\n', KMeans_subfolds, '\\n ___________________________________',\n",
    "     '\\nK=2 Clustering Folders: \\n', K2_subfolders)"
   ]
  },
  {
   "cell_type": "code",
   "execution_count": null,
   "id": "0fb72255",
   "metadata": {},
   "outputs": [],
   "source": [
    "flag = 'SV'\n",
    "#Define limits of time axis to plot\n",
    "xlimits = [-2,15]\n",
    "#Show figure?\n",
    "showfig = True\n",
    "#Save Figure?\n",
    "savefig = False"
   ]
  },
  {
   "cell_type": "code",
   "execution_count": null,
   "id": "30f9d653",
   "metadata": {},
   "outputs": [],
   "source": [
    "#List of all RFs for this crust\n",
    "stalist = sorted(glob.glob(path + '/*.PICKLE'))\n",
    "stalist"
   ]
  },
  {
   "cell_type": "code",
   "execution_count": null,
   "id": "649f95f7",
   "metadata": {},
   "outputs": [],
   "source": [
    "#Set up Figure\n",
    "plt.style.use('default')\n",
    "fig = plt.figure(figsize = (6,10))\n",
    "#First subplot\n",
    "plt.subplot(121)"
   ]
  },
  {
   "cell_type": "code",
   "execution_count": null,
   "id": "4f2f0479",
   "metadata": {},
   "outputs": [],
   "source": [
    "#Empty plotting lists\n",
    "plotBazs = []\n",
    "plotDists = []\n",
    "#Set counter to 0\n",
    "c = 0"
   ]
  },
  {
   "cell_type": "code",
   "execution_count": null,
   "id": "0d19ff56",
   "metadata": {},
   "outputs": [],
   "source": [
    "#Plot all RFs\n",
    "#Loop through all RFs in list\n",
    "for i in range(len(stalist)):\n",
    "    #Find file name\n",
    "    fileName = stalist[i].split('/')[-1]\n",
    "    #Read in file\n",
    "    seis = read(stalist[i], format = 'PICKLE')\n",
    "    \n",
    "    #Extract earthquake info\n",
    "    distdg = seis[0].stats['dist']\n",
    "    BAZ = seis[0].stats['baz']\n",
    "    \n",
    "    try:\n",
    "        #extract RF\n",
    "        RF = getattr(seis[0],filt)['iterativedeconvolution']\n",
    "    except:\n",
    "        print('no RF', filt, statlist[i])\n",
    "        continue\n",
    "    \n",
    "    #add to counter to determine place to plot RF on y axis\n",
    "    c = c+0.5\n",
    "    \n",
    "    #Extract time\n",
    "    time = getattr(seis[0],filt)['time']\n",
    "    \n",
    "    #identify time of max amplitude - allign with 0\n",
    "    maxtime = time[np.argmax(RF)]\n",
    "    \n",
    "    #add current info to the lists\n",
    "    plotBazs.append(BAZ)\n",
    "    plotDists.append(distdg)\n",
    "    \n",
    "    #plot RF at current y position\n",
    "    plt.plot(time-maxtime, RF/np.max(np.abs(RF))+c, 'k')\n",
    "    #plot RF in grey to overlay of all data\n",
    "    plt.plot(time-maxtime, RF/np.max(np.abs(RF)), '-', color = 'grey')\n",
    "\n",
    "#Label subplot 1 and define the axis\n",
    "plt.title('All Reciever Functions')\n",
    "plt.ylabel('BAZ')\n",
    "#Detailed label\n",
    "plt.yticks(np.asarray(np.arange(0,c+0.5,0.5)), ['ALL']+[str(math.floor(x)) for x in plotBazs])\n",
    "plt.xlabel('Time')\n",
    "plt.xlim(xlimits)\n",
    "plt.ylim([-2,c+2])"
   ]
  },
  {
   "cell_type": "code",
   "execution_count": null,
   "id": "a32bf19b",
   "metadata": {},
   "outputs": [],
   "source": [
    "#Manually Clustered\n",
    "c=0\n",
    "stackstart = 0\n",
    "yticks = []\n",
    "plotBazs2 = []\n",
    "plotDists2 = []\n",
    "\n",
    "for bazfold in BAZ_subfolds:\n",
    "    \n",
    "    stalist = sorted(glob.glob(bazfold + '/*.PICKLE'))\n",
    "    \n",
    "    for i in range(len(stalist)):\n",
    "        \n",
    "        filename = stalist[i].split('/')[-1]\n",
    "        seis = read(stalist[i],format='PICKLE')\n",
    "        \n",
    "        distdg = seis[0].stats['dist']\n",
    "        BAZ=seis[0].stats['baz']\n",
    "        \n",
    "        try:\n",
    "            RF = getattr(seis[0],filt)['iterativedeconvolution']\n",
    "        except:\n",
    "            print('no RF', filt, stalist[i])\n",
    "            continue\n",
    "        c=c+0.5\n",
    "        \n",
    "        time=getattr(seis[0],filt)['time']\n",
    "        \n",
    "        maxtime=time[np.argmax(RF)]\n",
    "        plotBazs2.append(BAZ)\n",
    "        yticks.append(c)\n",
    "        plt.plot(time-maxtime, RF/np.max(np.abs(RF))+c, 'k')\n",
    "        plt.plot(time-maxtime, RF/np.max(np.abs(RF))+stackstart,'-',color='grey')\n",
    "        plotDists2.append(distdg)\n",
    "    c=c+2\n",
    "    stackstart=c\n",
    "    \n",
    "#label and define axis Subplot2\n",
    "plt.title('Manual Clustering Results')\n",
    "plt.yticks(np.asarray(yticks),[str(math.floor(x)) for x in plotBazs2])\n",
    "plt.xlabel('Time')\n",
    "plt.ylabel('BAZ')\n",
    "plt.xlim(xlimits)\n",
    "plt.ylim([-2,c+2])\n"
   ]
  },
  {
   "cell_type": "code",
   "execution_count": null,
   "id": "fddcbf16",
   "metadata": {},
   "outputs": [],
   "source": [
    "#KMeans Clustering \n",
    "c = 0\n",
    "stackstart=0\n",
    "yticksMeans = []\n",
    "bazsMeans = []\n",
    "distsMeans = []\n",
    "\n",
    "for kfold in KMeans_subfolds:\n",
    "    \n",
    "    stalist = sorted(glob.glob(kfold + '/*.PICKLE copy'))\n",
    "    \n",
    "    for i in range(len(stalist)):\n",
    "        filename = stalist[i].split('/')[-1]\n",
    "        seis = read(stalist[i],format = 'PICKLE')\n",
    "        \n",
    "        distdg = seis[0].stats['dist']\n",
    "        BAZ=seis[0].stats['baz']\n",
    "        \n",
    "        try:\n",
    "            RF = getattr(seis[0],filt)['iterativedeconvolution']\n",
    "        except:\n",
    "            print('no RF', filt, stalist[i])\n",
    "            continue\n",
    "        c=c+0.5\n",
    "        \n",
    "        time=getattr(seis[0],filt)['time']\n",
    "        \n",
    "        maxtime=time[np.argmax(RF)]\n",
    "        bazsMeans.append(BAZ)\n",
    "        yticksMeans.append(c)\n",
    "        plt.plot(time-maxtime, RF/np.max(np.abs(RF))+c, 'k')\n",
    "        plt.plot(time-maxtime, RF/np.max(np.abs(RF))+stackstart,'-',color='grey')\n",
    "        distsMeans.append(distdg)\n",
    "    c=c+2\n",
    "    stackstart = c\n",
    "\n",
    "#Label + define axis\n",
    "plt.title('KMeans Clustering Results')\n",
    "plt.yticks(np.asarray(yticksMeans), [str(math.floor(x)) for x in bazsMeans])\n",
    "plt.xlabel('Time')\n",
    "plt.ylabel('BAZ')\n",
    "plt.xlim(xlimits)\n",
    "plt.ylim([-2,c+2])"
   ]
  },
  {
   "cell_type": "code",
   "execution_count": null,
   "id": "e2212571",
   "metadata": {},
   "outputs": [],
   "source": [
    "#Play with the distances\n",
    "#KMeans Clustering \n",
    "c = 0\n",
    "stackstart=0\n",
    "yticksMeans2 = []\n",
    "bazsMeans2 = []\n",
    "distsMeans2 = []\n",
    "\n",
    "for kfold in KMeans_subfolds:\n",
    "    \n",
    "    stalist = sorted(glob.glob(kfold + '/*.PICKLE copy'))\n",
    "    \n",
    "    for i in range(len(stalist)):\n",
    "        filename = stalist[i].split('/')[-1]\n",
    "        seis = read(stalist[i],format = 'PICKLE')\n",
    "        \n",
    "        distdg = seis[0].stats['dist']\n",
    "        BAZ=seis[0].stats['baz']\n",
    "        \n",
    "        try:\n",
    "            RF = getattr(seis[0],filt)['iterativedeconvolution']\n",
    "        except:\n",
    "            print('no RF', filt, stalist[i])\n",
    "            continue\n",
    "        c=c+1\n",
    "        \n",
    "        time=getattr(seis[0],filt)['time']\n",
    "        \n",
    "        maxtime=time[np.argmax(RF)]\n",
    "        bazsMeans2.append(BAZ)\n",
    "        yticksMeans2.append(c)\n",
    "        plt.plot(time-maxtime, RF/np.max(np.abs(RF))+c, 'k')\n",
    "        plt.plot(time-maxtime, RF/np.max(np.abs(RF))+stackstart,'-',color='grey')\n",
    "        distsMeans2.append(distdg)\n",
    "    c=c+3\n",
    "    stackstart = c\n",
    "\n",
    "#Label + define axis\n",
    "plt.title('KMeans Clustering Results')\n",
    "plt.yticks(np.asarray(yticksMeans2), [str(math.floor(x)) for x in bazsMeans2])\n",
    "plt.xlabel('Time')\n",
    "plt.ylabel('BAZ')\n",
    "plt.xlim(xlimits)\n",
    "plt.ylim([-2,c+2])"
   ]
  },
  {
   "cell_type": "code",
   "execution_count": null,
   "id": "b2f89d9c",
   "metadata": {},
   "outputs": [],
   "source": [
    "#Show clustering for K=2\n",
    "c=0\n",
    "stackstart=0\n",
    "k2yticks = []\n",
    "k2Bazs = []\n",
    "k2Dists = []\n",
    "\n",
    "for k2fold in K2_subfolds:\n",
    "    stalist = sorted(glob.glob(k2fold + '/*.PICKLE copy'))\n",
    "    \n",
    "    for i in range(len(stalist)):\n",
    "        \n",
    "        filename = stalist[i].split('/')[-1]\n",
    "        seis = read(stalist[i], format = 'PICKLE')\n",
    "        \n",
    "        distdg = seis[0].stats['dist']\n",
    "        BAZ=seis[0].stats['baz']\n",
    "        \n",
    "        try:\n",
    "            RF = getattr(seis[0],filt)['iterativedeconvolution']\n",
    "        except:\n",
    "            print('no RF', filt, stalist[i])\n",
    "            continue\n",
    "        c=c+0.5\n",
    "        \n",
    "        time = getattr(seis[0],filt)['time']\n",
    "        \n",
    "        maxtime=time[np.argmax(RF)]\n",
    "        k2Bazs.append(BAZ)\n",
    "        k2yticks.append(c)\n",
    "        plt.plot(time-maxtime, RF/np.max(np.abs(RF))+c, 'k')\n",
    "        plt.plot(time-maxtime, RF/np.max(np.abs(RF))+stackstart, '-', color = 'grey')\n",
    "        k2Dists.append(distdg)\n",
    "    c=c+2\n",
    "    stackstart=c\n",
    "\n",
    "#Label + define axis\n",
    "plt.title('K=2 Cluster Results')\n",
    "plt.yticks(np.asarray(k2yticks), [str(math.floor(x)) for x in k2Bazs])\n",
    "plt.xlabel('Time')\n",
    "plt.ylabel('BAZ')\n",
    "plt.xlim(xlimits)\n",
    "plt.ylim([-2,c+2])"
   ]
  },
  {
   "cell_type": "markdown",
   "id": "d4acea8f",
   "metadata": {},
   "source": [
    "# Pipelines"
   ]
  },
  {
   "cell_type": "code",
   "execution_count": null,
   "id": "287920d5",
   "metadata": {},
   "outputs": [],
   "source": [
    "#Follow RealPython Application\n",
    "#Making a clustering pipeline\n",
    "clusterer = Pipeline([\n",
    "    (\n",
    "    \"kmeans\",\n",
    "    KMeans(\n",
    "    n_clusters = 4,\n",
    "    init = \"k-means++\",\n",
    "    n_init = 50,\n",
    "    max_iter = 500,\n",
    "    random_state = 42,\n",
    "    ),\n",
    "    ),\n",
    "])"
   ]
  },
  {
   "cell_type": "code",
   "execution_count": null,
   "id": "4fa3d043",
   "metadata": {},
   "outputs": [],
   "source": [
    "clusterer.fit(scaledDf)"
   ]
  },
  {
   "cell_type": "code",
   "execution_count": null,
   "id": "077ebcf6",
   "metadata": {},
   "outputs": [],
   "source": []
  }
 ],
 "metadata": {
  "kernelspec": {
   "display_name": "Python 3 (ipykernel)",
   "language": "python",
   "name": "python3"
  },
  "language_info": {
   "codemirror_mode": {
    "name": "ipython",
    "version": 3
   },
   "file_extension": ".py",
   "mimetype": "text/x-python",
   "name": "python",
   "nbconvert_exporter": "python",
   "pygments_lexer": "ipython3",
   "version": "3.9.12"
  }
 },
 "nbformat": 4,
 "nbformat_minor": 5
}
